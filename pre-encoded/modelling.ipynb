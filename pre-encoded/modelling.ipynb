{
 "cells": [
  {
   "cell_type": "code",
   "execution_count": 1,
   "metadata": {},
   "outputs": [],
   "source": [
    "import pandas as pd\n",
    "import numpy as np\n",
    "import sys\n",
    "from os import getcwd\n",
    "from os.path import join\n",
    "sys.path.insert(0, join(getcwd(), '..'))\n",
    "import sentiment\n",
    "\n",
    "\n",
    "DATASET_DIR = '../goemotions/data-v2/'"
   ]
  },
  {
   "cell_type": "code",
   "execution_count": 2,
   "metadata": {},
   "outputs": [
    {
     "data": {
      "text/plain": [
       "['admiration',\n",
       " 'amusement',\n",
       " 'anger',\n",
       " 'annoyance',\n",
       " 'approval',\n",
       " 'caring',\n",
       " 'confusion',\n",
       " 'curiosity',\n",
       " 'desire',\n",
       " 'disappointment',\n",
       " 'disapproval',\n",
       " 'disgust',\n",
       " 'embarrassment',\n",
       " 'excitement',\n",
       " 'fear',\n",
       " 'gratitude',\n",
       " 'grief',\n",
       " 'joy',\n",
       " 'love',\n",
       " 'nervousness',\n",
       " 'optimism',\n",
       " 'pride',\n",
       " 'realization',\n",
       " 'relief',\n",
       " 'remorse',\n",
       " 'sadness',\n",
       " 'surprise',\n",
       " 'neutral']"
      ]
     },
     "execution_count": 2,
     "metadata": {},
     "output_type": "execute_result"
    }
   ],
   "source": [
    "classes = sentiment.load_classes(DATASET_DIR)\n",
    "classes"
   ]
  },
  {
   "cell_type": "code",
   "execution_count": 3,
   "metadata": {
    "tags": []
   },
   "outputs": [],
   "source": [
    "import tensorflow as tf\n",
    "from tensorflow.data import AUTOTUNE, Dataset\n",
    "\n",
    "\n",
    "def read_to_ds(x_fname, y_fname, batch_size, prefetch_buffer):\n",
    "    with open(x_fname, 'rb') as file:\n",
    "        X = np.load(file, allow_pickle=True)\n",
    "    with open(y_fname, 'rb') as file:\n",
    "        y = np.load(file, allow_pickle=True)\n",
    "    ds = Dataset.from_tensor_slices((X, y))\n",
    "    if batch_size:\n",
    "        ds = ds.batch(batch_size)\n",
    "    if prefetch_buffer:\n",
    "        ds = ds.prefetch(prefetch_buffer)\n",
    "    return ds"
   ]
  },
  {
   "cell_type": "code",
   "execution_count": 4,
   "metadata": {},
   "outputs": [
    {
     "name": "stdout",
     "output_type": "stream",
     "text": [
      "CPU times: total: 2.61 s\n",
      "Wall time: 9.66 s\n"
     ]
    }
   ],
   "source": [
    "%%time\n",
    "BATCH_SIZE = 32\n",
    "\n",
    "train_ds = read_to_ds('train_X.npy', 'train_y.npy', BATCH_SIZE, AUTOTUNE)\n",
    "val_ds = read_to_ds('val_X.npy', 'val_y.npy', BATCH_SIZE, AUTOTUNE)\n",
    "test_ds = read_to_ds('test_X.npy', 'test_y.npy', BATCH_SIZE, AUTOTUNE)"
   ]
  },
  {
   "cell_type": "code",
   "execution_count": 5,
   "metadata": {},
   "outputs": [],
   "source": [
    "from tensorflow.keras.layers import (Dropout, Dense)\n",
    "from tensorflow.keras import Sequential, regularizers\n",
    "\n",
    "classifier = Sequential([\n",
    "    Dropout(0.3),\n",
    "    Dense(128, activation='relu', kernel_regularizer=regularizers.L1(l1=0.01)),\n",
    "    Dropout(0.3),\n",
    "    Dense(128, activation='relu'),\n",
    "    Dropout(0.3),\n",
    "    Dense(len(classes), activation='sigmoid'),\n",
    "])"
   ]
  },
  {
   "cell_type": "code",
   "execution_count": 6,
   "metadata": {},
   "outputs": [],
   "source": [
    "from tensorflow.keras.losses import BinaryCrossentropy\n",
    "from keras.optimizers import Adam\n",
    "\n",
    "METRICS_THRESHOLD = 0.5\n",
    "LEARNING_RATE = 1e-2\n",
    "\n",
    "\n",
    "metrics = sentiment.create_metrics(classes, METRICS_THRESHOLD)\n",
    "loss = BinaryCrossentropy()\n",
    "classifier.compile(Adam(learning_rate=LEARNING_RATE), loss=loss, metrics=metrics)"
   ]
  },
  {
   "cell_type": "code",
   "execution_count": 7,
   "metadata": {
    "scrolled": true,
    "tags": []
   },
   "outputs": [
    {
     "name": "stdout",
     "output_type": "stream",
     "text": [
      "Epoch 1/200\n",
      "1122/1122 [==============================] - 74s 55ms/step - loss: 34.6234 - precision@0.5/admiration: 0.1282 - recall@0.5/admiration: 0.0012 - precision@0.5/amusement: 0.0769 - recall@0.5/amusement: 4.0634e-04 - precision@0.5/anger: 0.0000e+00 - recall@0.5/anger: 0.0000e+00 - precision@0.5/annoyance: 0.0833 - recall@0.5/annoyance: 7.4655e-04 - precision@0.5/approval: 0.3000 - recall@0.5/approval: 9.5027e-04 - precision@0.5/caring: 0.0182 - recall@0.5/caring: 8.6505e-04 - precision@0.5/confusion: 0.0250 - recall@0.5/confusion: 6.9930e-04 - precision@0.5/curiosity: 0.0000e+00 - recall@0.5/curiosity: 0.0000e+00 - precision@0.5/desire: 0.0909 - recall@0.5/desire: 0.0020 - precision@0.5/disappointment: 0.0000e+00 - recall@0.5/disappointment: 0.0000e+00 - precision@0.5/disapproval: 0.0000e+00 - recall@0.5/disapproval: 0.0000e+00 - precision@0.5/disgust: 0.0000e+00 - recall@0.5/disgust: 0.0000e+00 - precision@0.5/embarrassment: 0.0000e+00 - recall@0.5/embarrassment: 0.0000e+00 - precision@0.5/excitement: 0.1333 - recall@0.5/excitement: 0.0022 - precision@0.5/fear: 0.0000e+00 - recall@0.5/fear: 0.0000e+00 - precision@0.5/gratitude: 0.0909 - recall@0.5/gratitude: 3.4435e-04 - precision@0.5/grief: 0.0000e+00 - recall@0.5/grief: 0.0000e+00 - precision@0.5/joy: 0.0000e+00 - recall@0.5/joy: 0.0000e+00 - precision@0.5/love: 0.0000e+00 - recall@0.5/love: 0.0000e+00 - precision@0.5/nervousness: 0.0000e+00 - recall@0.5/nervousness: 0.0000e+00 - precision@0.5/optimism: 0.1818 - recall@0.5/optimism: 0.0012 - precision@0.5/pride: 0.2500 - recall@0.5/pride: 0.0020 - precision@0.5/realization: 0.0000e+00 - recall@0.5/realization: 0.0000e+00 - precision@0.5/relief: 0.0000e+00 - recall@0.5/relief: 0.0000e+00 - precision@0.5/remorse: 0.0667 - recall@0.5/remorse: 0.0040 - precision@0.5/sadness: 0.3333 - recall@0.5/sadness: 6.5232e-04 - precision@0.5/surprise: 0.0000e+00 - recall@0.5/surprise: 0.0000e+00 - precision@0.5/neutral: 0.2222 - recall@0.5/neutral: 4.5310e-04 - precision@0.5/all: 0.0522 - recall@0.5/all: 5.5283e-04 - f1_score@0.5/all: 0.0011 - f1_score_micro@0.5/all: 0.0011 - f1_score_macro@0.5/all: 0.0012 - val_loss: 30.9627 - val_precision@0.5/admiration: 0.0000e+00 - val_recall@0.5/admiration: 0.0000e+00 - val_precision@0.5/amusement: 0.0000e+00 - val_recall@0.5/amusement: 0.0000e+00 - val_precision@0.5/anger: 0.0000e+00 - val_recall@0.5/anger: 0.0000e+00 - val_precision@0.5/annoyance: 0.0000e+00 - val_recall@0.5/annoyance: 0.0000e+00 - val_precision@0.5/approval: 0.0000e+00 - val_recall@0.5/approval: 0.0000e+00 - val_precision@0.5/caring: 0.0000e+00 - val_recall@0.5/caring: 0.0000e+00 - val_precision@0.5/confusion: 0.0000e+00 - val_recall@0.5/confusion: 0.0000e+00 - val_precision@0.5/curiosity: 0.0000e+00 - val_recall@0.5/curiosity: 0.0000e+00 - val_precision@0.5/desire: 0.0000e+00 - val_recall@0.5/desire: 0.0000e+00 - val_precision@0.5/disappointment: 0.0000e+00 - val_recall@0.5/disappointment: 0.0000e+00 - val_precision@0.5/disapproval: 0.0000e+00 - val_recall@0.5/disapproval: 0.0000e+00 - val_precision@0.5/disgust: 0.0000e+00 - val_recall@0.5/disgust: 0.0000e+00 - val_precision@0.5/embarrassment: 0.0000e+00 - val_recall@0.5/embarrassment: 0.0000e+00 - val_precision@0.5/excitement: 0.0000e+00 - val_recall@0.5/excitement: 0.0000e+00 - val_precision@0.5/fear: 0.0000e+00 - val_recall@0.5/fear: 0.0000e+00 - val_precision@0.5/gratitude: 0.0000e+00 - val_recall@0.5/gratitude: 0.0000e+00 - val_precision@0.5/grief: 0.0000e+00 - val_recall@0.5/grief: 0.0000e+00 - val_precision@0.5/joy: 0.0000e+00 - val_recall@0.5/joy: 0.0000e+00 - val_precision@0.5/love: 0.0000e+00 - val_recall@0.5/love: 0.0000e+00 - val_precision@0.5/nervousness: 0.0000e+00 - val_recall@0.5/nervousness: 0.0000e+00 - val_precision@0.5/optimism: 0.0000e+00 - val_recall@0.5/optimism: 0.0000e+00 - val_precision@0.5/pride: 0.0000e+00 - val_recall@0.5/pride: 0.0000e+00 - val_precision@0.5/realization: 0.0000e+00 - val_recall@0.5/realization: 0.0000e+00 - val_precision@0.5/relief: 0.0000e+00 - val_recall@0.5/relief: 0.0000e+00 - val_precision@0.5/remorse: 0.0000e+00 - val_recall@0.5/remorse: 0.0000e+00 - val_precision@0.5/sadness: 0.0000e+00 - val_recall@0.5/sadness: 0.0000e+00 - val_precision@0.5/surprise: 0.0000e+00 - val_recall@0.5/surprise: 0.0000e+00 - val_precision@0.5/neutral: 0.0000e+00 - val_recall@0.5/neutral: 0.0000e+00 - val_precision@0.5/all: 0.0000e+00 - val_recall@0.5/all: 0.0000e+00 - val_f1_score@0.5/all: 0.0000e+00 - val_f1_score_micro@0.5/all: 0.0000e+00 - val_f1_score_macro@0.5/all: 0.0000e+00\n",
      "Epoch 2/200\n",
      "1122/1122 [==============================] - 58s 51ms/step - loss: 33.3880 - precision@0.5/admiration: 0.0000e+00 - recall@0.5/admiration: 0.0000e+00 - precision@0.5/amusement: 0.0000e+00 - recall@0.5/amusement: 0.0000e+00 - precision@0.5/anger: 0.0000e+00 - recall@0.5/anger: 0.0000e+00 - precision@0.5/annoyance: 0.0000e+00 - recall@0.5/annoyance: 0.0000e+00 - precision@0.5/approval: 0.0000e+00 - recall@0.5/approval: 0.0000e+00 - precision@0.5/caring: 0.0000e+00 - recall@0.5/caring: 0.0000e+00 - precision@0.5/confusion: 0.0000e+00 - recall@0.5/confusion: 0.0000e+00 - precision@0.5/curiosity: 0.0000e+00 - recall@0.5/curiosity: 0.0000e+00 - precision@0.5/desire: 0.0000e+00 - recall@0.5/desire: 0.0000e+00 - precision@0.5/disappointment: 0.0000e+00 - recall@0.5/disappointment: 0.0000e+00 - precision@0.5/disapproval: 0.0000e+00 - recall@0.5/disapproval: 0.0000e+00 - precision@0.5/disgust: 0.0000e+00 - recall@0.5/disgust: 0.0000e+00 - precision@0.5/embarrassment: 0.0000e+00 - recall@0.5/embarrassment: 0.0000e+00 - precision@0.5/excitement: 0.0000e+00 - recall@0.5/excitement: 0.0000e+00 - precision@0.5/fear: 0.0000e+00 - recall@0.5/fear: 0.0000e+00 - precision@0.5/gratitude: 0.0000e+00 - recall@0.5/gratitude: 0.0000e+00 - precision@0.5/grief: 0.0000e+00 - recall@0.5/grief: 0.0000e+00 - precision@0.5/joy: 0.0000e+00 - recall@0.5/joy: 0.0000e+00 - precision@0.5/love: 0.0000e+00 - recall@0.5/love: 0.0000e+00 - precision@0.5/nervousness: 0.0000e+00 - recall@0.5/nervousness: 0.0000e+00 - precision@0.5/optimism: 0.0000e+00 - recall@0.5/optimism: 0.0000e+00 - precision@0.5/pride: 0.0000e+00 - recall@0.5/pride: 0.0000e+00 - precision@0.5/realization: 0.0000e+00 - recall@0.5/realization: 0.0000e+00 - precision@0.5/relief: 0.0000e+00 - recall@0.5/relief: 0.0000e+00 - precision@0.5/remorse: 0.0000e+00 - recall@0.5/remorse: 0.0000e+00 - precision@0.5/sadness: 0.0000e+00 - recall@0.5/sadness: 0.0000e+00 - precision@0.5/surprise: 0.0000e+00 - recall@0.5/surprise: 0.0000e+00 - precision@0.5/neutral: 0.0000e+00 - recall@0.5/neutral: 0.0000e+00 - precision@0.5/all: 0.0000e+00 - recall@0.5/all: 0.0000e+00 - f1_score@0.5/all: 0.0000e+00 - f1_score_micro@0.5/all: 0.0000e+00 - f1_score_macro@0.5/all: 0.0000e+00 - val_loss: 31.0356 - val_precision@0.5/admiration: 0.0000e+00 - val_recall@0.5/admiration: 0.0000e+00 - val_precision@0.5/amusement: 0.0000e+00 - val_recall@0.5/amusement: 0.0000e+00 - val_precision@0.5/anger: 0.0000e+00 - val_recall@0.5/anger: 0.0000e+00 - val_precision@0.5/annoyance: 0.0000e+00 - val_recall@0.5/annoyance: 0.0000e+00 - val_precision@0.5/approval: 0.0000e+00 - val_recall@0.5/approval: 0.0000e+00 - val_precision@0.5/caring: 0.0000e+00 - val_recall@0.5/caring: 0.0000e+00 - val_precision@0.5/confusion: 0.0000e+00 - val_recall@0.5/confusion: 0.0000e+00 - val_precision@0.5/curiosity: 0.0000e+00 - val_recall@0.5/curiosity: 0.0000e+00 - val_precision@0.5/desire: 0.0000e+00 - val_recall@0.5/desire: 0.0000e+00 - val_precision@0.5/disappointment: 0.0000e+00 - val_recall@0.5/disappointment: 0.0000e+00 - val_precision@0.5/disapproval: 0.0000e+00 - val_recall@0.5/disapproval: 0.0000e+00 - val_precision@0.5/disgust: 0.0000e+00 - val_recall@0.5/disgust: 0.0000e+00 - val_precision@0.5/embarrassment: 0.0000e+00 - val_recall@0.5/embarrassment: 0.0000e+00 - val_precision@0.5/excitement: 0.0000e+00 - val_recall@0.5/excitement: 0.0000e+00 - val_precision@0.5/fear: 0.0000e+00 - val_recall@0.5/fear: 0.0000e+00 - val_precision@0.5/gratitude: 0.0000e+00 - val_recall@0.5/gratitude: 0.0000e+00 - val_precision@0.5/grief: 0.0000e+00 - val_recall@0.5/grief: 0.0000e+00 - val_precision@0.5/joy: 0.0000e+00 - val_recall@0.5/joy: 0.0000e+00 - val_precision@0.5/love: 0.0000e+00 - val_recall@0.5/love: 0.0000e+00 - val_precision@0.5/nervousness: 0.0000e+00 - val_recall@0.5/nervousness: 0.0000e+00 - val_precision@0.5/optimism: 0.0000e+00 - val_recall@0.5/optimism: 0.0000e+00 - val_precision@0.5/pride: 0.0000e+00 - val_recall@0.5/pride: 0.0000e+00 - val_precision@0.5/realization: 0.0000e+00 - val_recall@0.5/realization: 0.0000e+00 - val_precision@0.5/relief: 0.0000e+00 - val_recall@0.5/relief: 0.0000e+00 - val_precision@0.5/remorse: 0.0000e+00 - val_recall@0.5/remorse: 0.0000e+00 - val_precision@0.5/sadness: 0.0000e+00 - val_recall@0.5/sadness: 0.0000e+00 - val_precision@0.5/surprise: 0.0000e+00 - val_recall@0.5/surprise: 0.0000e+00 - val_precision@0.5/neutral: 0.0000e+00 - val_recall@0.5/neutral: 0.0000e+00 - val_precision@0.5/all: 0.0000e+00 - val_recall@0.5/all: 0.0000e+00 - val_f1_score@0.5/all: 0.0000e+00 - val_f1_score_micro@0.5/all: 0.0000e+00 - val_f1_score_macro@0.5/all: 0.0000e+00\n",
      "Epoch 3/200\n",
      " 300/1122 [=======>......................] - ETA: 41s - loss: 33.3897 - precision@0.5/admiration: 0.0000e+00 - recall@0.5/admiration: 0.0000e+00 - precision@0.5/amusement: 0.0000e+00 - recall@0.5/amusement: 0.0000e+00 - precision@0.5/anger: 0.0000e+00 - recall@0.5/anger: 0.0000e+00 - precision@0.5/annoyance: 0.0000e+00 - recall@0.5/annoyance: 0.0000e+00 - precision@0.5/approval: 0.0000e+00 - recall@0.5/approval: 0.0000e+00 - precision@0.5/caring: 0.0000e+00 - recall@0.5/caring: 0.0000e+00 - precision@0.5/confusion: 0.0000e+00 - recall@0.5/confusion: 0.0000e+00 - precision@0.5/curiosity: 0.0000e+00 - recall@0.5/curiosity: 0.0000e+00 - precision@0.5/desire: 0.0000e+00 - recall@0.5/desire: 0.0000e+00 - precision@0.5/disappointment: 0.0000e+00 - recall@0.5/disappointment: 0.0000e+00 - precision@0.5/disapproval: 0.0000e+00 - recall@0.5/disapproval: 0.0000e+00 - precision@0.5/disgust: 0.0000e+00 - recall@0.5/disgust: 0.0000e+00 - precision@0.5/embarrassment: 0.0000e+00 - recall@0.5/embarrassment: 0.0000e+00 - precision@0.5/excitement: 0.0000e+00 - recall@0.5/excitement: 0.0000e+00 - precision@0.5/fear: 0.0000e+00 - recall@0.5/fear: 0.0000e+00 - precision@0.5/gratitude: 0.0000e+00 - recall@0.5/gratitude: 0.0000e+00 - precision@0.5/grief: 0.0000e+00 - recall@0.5/grief: 0.0000e+00 - precision@0.5/joy: 0.0000e+00 - recall@0.5/joy: 0.0000e+00 - precision@0.5/love: 0.0000e+00 - recall@0.5/love: 0.0000e+00 - precision@0.5/nervousness: 0.0000e+00 - recall@0.5/nervousness: 0.0000e+00 - precision@0.5/optimism: 0.0000e+00 - recall@0.5/optimism: 0.0000e+00 - precision@0.5/pride: 0.0000e+00 - recall@0.5/pride: 0.0000e+00 - precision@0.5/realization: 0.0000e+00 - recall@0.5/realization: 0.0000e+00 - precision@0.5/relief: 0.0000e+00 - recall@0.5/relief: 0.0000e+00 - precision@0.5/remorse: 0.0000e+00 - recall@0.5/remorse: 0.0000e+00 - precision@0.5/sadness: 0.0000e+00 - recall@0.5/sadness: 0.0000e+00 - precision@0.5/surprise: 0.0000e+00 - recall@0.5/surprise: 0.0000e+00 - precision@0.5/neutral: 0.0000e+00 - recall@0.5/neutral: 0.0000e+00 - precision@0.5/all: 0.0000e+00 - recall@0.5/all: 0.0000e+00 - f1_score@0.5/all: 0.0000e+00 - f1_score_micro@0.5/all: 0.0000e+00 - f1_score_macro@0.5/all: 0.0000e+00"
     ]
    },
    {
     "ename": "KeyboardInterrupt",
     "evalue": "",
     "output_type": "error",
     "traceback": [
      "\u001b[1;31m---------------------------------------------------------------------------\u001b[0m",
      "\u001b[1;31mKeyboardInterrupt\u001b[0m                         Traceback (most recent call last)",
      "Cell \u001b[1;32mIn[7], line 7\u001b[0m\n\u001b[0;32m      1\u001b[0m \u001b[38;5;28;01mfrom\u001b[39;00m \u001b[38;5;21;01mtensorflow\u001b[39;00m\u001b[38;5;21;01m.\u001b[39;00m\u001b[38;5;21;01mkeras\u001b[39;00m\u001b[38;5;21;01m.\u001b[39;00m\u001b[38;5;21;01mcallbacks\u001b[39;00m \u001b[38;5;28;01mimport\u001b[39;00m EarlyStopping\n\u001b[0;32m      4\u001b[0m EPOCHS \u001b[38;5;241m=\u001b[39m \u001b[38;5;241m200\u001b[39m\n\u001b[1;32m----> 7\u001b[0m hist \u001b[38;5;241m=\u001b[39m \u001b[43mclassifier\u001b[49m\u001b[38;5;241;43m.\u001b[39;49m\u001b[43mfit\u001b[49m\u001b[43m(\u001b[49m\u001b[43mx\u001b[49m\u001b[38;5;241;43m=\u001b[39;49m\u001b[43mtrain_ds\u001b[49m\u001b[43m,\u001b[49m\u001b[43m \u001b[49m\u001b[43mvalidation_data\u001b[49m\u001b[38;5;241;43m=\u001b[39;49m\u001b[43mval_ds\u001b[49m\u001b[43m,\u001b[49m\u001b[43m \u001b[49m\u001b[43mepochs\u001b[49m\u001b[38;5;241;43m=\u001b[39;49m\u001b[43mEPOCHS\u001b[49m\u001b[43m,\u001b[49m\n\u001b[0;32m      8\u001b[0m \u001b[43m                      \u001b[49m\u001b[43mcallbacks\u001b[49m\u001b[38;5;241;43m=\u001b[39;49m\u001b[43m[\u001b[49m\u001b[43mEarlyStopping\u001b[49m\u001b[43m(\u001b[49m\u001b[43mmonitor\u001b[49m\u001b[38;5;241;43m=\u001b[39;49m\u001b[38;5;124;43m'\u001b[39;49m\u001b[38;5;124;43mval_loss\u001b[39;49m\u001b[38;5;124;43m'\u001b[39;49m\u001b[43m,\u001b[49m\u001b[43m \u001b[49m\u001b[43mpatience\u001b[49m\u001b[38;5;241;43m=\u001b[39;49m\u001b[38;5;241;43m3\u001b[39;49m\u001b[43m)\u001b[49m\u001b[43m]\u001b[49m\n\u001b[0;32m      9\u001b[0m \u001b[43m                      \u001b[49m\u001b[38;5;66;43;03m# class_weight=class_weights\u001b[39;49;00m\n\u001b[0;32m     10\u001b[0m \u001b[43m                     \u001b[49m\u001b[43m)\u001b[49m\n",
      "File \u001b[1;32m~\\AppData\\Roaming\\Python\\Python310\\site-packages\\keras\\utils\\traceback_utils.py:65\u001b[0m, in \u001b[0;36mfilter_traceback.<locals>.error_handler\u001b[1;34m(*args, **kwargs)\u001b[0m\n\u001b[0;32m     63\u001b[0m filtered_tb \u001b[38;5;241m=\u001b[39m \u001b[38;5;28;01mNone\u001b[39;00m\n\u001b[0;32m     64\u001b[0m \u001b[38;5;28;01mtry\u001b[39;00m:\n\u001b[1;32m---> 65\u001b[0m     \u001b[38;5;28;01mreturn\u001b[39;00m fn(\u001b[38;5;241m*\u001b[39margs, \u001b[38;5;241m*\u001b[39m\u001b[38;5;241m*\u001b[39mkwargs)\n\u001b[0;32m     66\u001b[0m \u001b[38;5;28;01mexcept\u001b[39;00m \u001b[38;5;167;01mException\u001b[39;00m \u001b[38;5;28;01mas\u001b[39;00m e:\n\u001b[0;32m     67\u001b[0m     filtered_tb \u001b[38;5;241m=\u001b[39m _process_traceback_frames(e\u001b[38;5;241m.\u001b[39m__traceback__)\n",
      "File \u001b[1;32m~\\AppData\\Roaming\\Python\\Python310\\site-packages\\keras\\engine\\training.py:1564\u001b[0m, in \u001b[0;36mModel.fit\u001b[1;34m(self, x, y, batch_size, epochs, verbose, callbacks, validation_split, validation_data, shuffle, class_weight, sample_weight, initial_epoch, steps_per_epoch, validation_steps, validation_batch_size, validation_freq, max_queue_size, workers, use_multiprocessing)\u001b[0m\n\u001b[0;32m   1556\u001b[0m \u001b[38;5;28;01mwith\u001b[39;00m tf\u001b[38;5;241m.\u001b[39mprofiler\u001b[38;5;241m.\u001b[39mexperimental\u001b[38;5;241m.\u001b[39mTrace(\n\u001b[0;32m   1557\u001b[0m     \u001b[38;5;124m\"\u001b[39m\u001b[38;5;124mtrain\u001b[39m\u001b[38;5;124m\"\u001b[39m,\n\u001b[0;32m   1558\u001b[0m     epoch_num\u001b[38;5;241m=\u001b[39mepoch,\n\u001b[1;32m   (...)\u001b[0m\n\u001b[0;32m   1561\u001b[0m     _r\u001b[38;5;241m=\u001b[39m\u001b[38;5;241m1\u001b[39m,\n\u001b[0;32m   1562\u001b[0m ):\n\u001b[0;32m   1563\u001b[0m     callbacks\u001b[38;5;241m.\u001b[39mon_train_batch_begin(step)\n\u001b[1;32m-> 1564\u001b[0m     tmp_logs \u001b[38;5;241m=\u001b[39m \u001b[38;5;28;43mself\u001b[39;49m\u001b[38;5;241;43m.\u001b[39;49m\u001b[43mtrain_function\u001b[49m\u001b[43m(\u001b[49m\u001b[43miterator\u001b[49m\u001b[43m)\u001b[49m\n\u001b[0;32m   1565\u001b[0m     \u001b[38;5;28;01mif\u001b[39;00m data_handler\u001b[38;5;241m.\u001b[39mshould_sync:\n\u001b[0;32m   1566\u001b[0m         context\u001b[38;5;241m.\u001b[39masync_wait()\n",
      "File \u001b[1;32m~\\AppData\\Roaming\\Python\\Python310\\site-packages\\tensorflow\\python\\util\\traceback_utils.py:150\u001b[0m, in \u001b[0;36mfilter_traceback.<locals>.error_handler\u001b[1;34m(*args, **kwargs)\u001b[0m\n\u001b[0;32m    148\u001b[0m filtered_tb \u001b[38;5;241m=\u001b[39m \u001b[38;5;28;01mNone\u001b[39;00m\n\u001b[0;32m    149\u001b[0m \u001b[38;5;28;01mtry\u001b[39;00m:\n\u001b[1;32m--> 150\u001b[0m   \u001b[38;5;28;01mreturn\u001b[39;00m fn(\u001b[38;5;241m*\u001b[39margs, \u001b[38;5;241m*\u001b[39m\u001b[38;5;241m*\u001b[39mkwargs)\n\u001b[0;32m    151\u001b[0m \u001b[38;5;28;01mexcept\u001b[39;00m \u001b[38;5;167;01mException\u001b[39;00m \u001b[38;5;28;01mas\u001b[39;00m e:\n\u001b[0;32m    152\u001b[0m   filtered_tb \u001b[38;5;241m=\u001b[39m _process_traceback_frames(e\u001b[38;5;241m.\u001b[39m__traceback__)\n",
      "File \u001b[1;32m~\\AppData\\Roaming\\Python\\Python310\\site-packages\\tensorflow\\python\\eager\\def_function.py:915\u001b[0m, in \u001b[0;36mFunction.__call__\u001b[1;34m(self, *args, **kwds)\u001b[0m\n\u001b[0;32m    912\u001b[0m compiler \u001b[38;5;241m=\u001b[39m \u001b[38;5;124m\"\u001b[39m\u001b[38;5;124mxla\u001b[39m\u001b[38;5;124m\"\u001b[39m \u001b[38;5;28;01mif\u001b[39;00m \u001b[38;5;28mself\u001b[39m\u001b[38;5;241m.\u001b[39m_jit_compile \u001b[38;5;28;01melse\u001b[39;00m \u001b[38;5;124m\"\u001b[39m\u001b[38;5;124mnonXla\u001b[39m\u001b[38;5;124m\"\u001b[39m\n\u001b[0;32m    914\u001b[0m \u001b[38;5;28;01mwith\u001b[39;00m OptionalXlaContext(\u001b[38;5;28mself\u001b[39m\u001b[38;5;241m.\u001b[39m_jit_compile):\n\u001b[1;32m--> 915\u001b[0m   result \u001b[38;5;241m=\u001b[39m \u001b[38;5;28mself\u001b[39m\u001b[38;5;241m.\u001b[39m_call(\u001b[38;5;241m*\u001b[39margs, \u001b[38;5;241m*\u001b[39m\u001b[38;5;241m*\u001b[39mkwds)\n\u001b[0;32m    917\u001b[0m new_tracing_count \u001b[38;5;241m=\u001b[39m \u001b[38;5;28mself\u001b[39m\u001b[38;5;241m.\u001b[39mexperimental_get_tracing_count()\n\u001b[0;32m    918\u001b[0m without_tracing \u001b[38;5;241m=\u001b[39m (tracing_count \u001b[38;5;241m==\u001b[39m new_tracing_count)\n",
      "File \u001b[1;32m~\\AppData\\Roaming\\Python\\Python310\\site-packages\\tensorflow\\python\\eager\\def_function.py:947\u001b[0m, in \u001b[0;36mFunction._call\u001b[1;34m(self, *args, **kwds)\u001b[0m\n\u001b[0;32m    944\u001b[0m   \u001b[38;5;28mself\u001b[39m\u001b[38;5;241m.\u001b[39m_lock\u001b[38;5;241m.\u001b[39mrelease()\n\u001b[0;32m    945\u001b[0m   \u001b[38;5;66;03m# In this case we have created variables on the first call, so we run the\u001b[39;00m\n\u001b[0;32m    946\u001b[0m   \u001b[38;5;66;03m# defunned version which is guaranteed to never create variables.\u001b[39;00m\n\u001b[1;32m--> 947\u001b[0m   \u001b[38;5;28;01mreturn\u001b[39;00m \u001b[38;5;28mself\u001b[39m\u001b[38;5;241m.\u001b[39m_stateless_fn(\u001b[38;5;241m*\u001b[39margs, \u001b[38;5;241m*\u001b[39m\u001b[38;5;241m*\u001b[39mkwds)  \u001b[38;5;66;03m# pylint: disable=not-callable\u001b[39;00m\n\u001b[0;32m    948\u001b[0m \u001b[38;5;28;01melif\u001b[39;00m \u001b[38;5;28mself\u001b[39m\u001b[38;5;241m.\u001b[39m_stateful_fn \u001b[38;5;129;01mis\u001b[39;00m \u001b[38;5;129;01mnot\u001b[39;00m \u001b[38;5;28;01mNone\u001b[39;00m:\n\u001b[0;32m    949\u001b[0m   \u001b[38;5;66;03m# Release the lock early so that multiple threads can perform the call\u001b[39;00m\n\u001b[0;32m    950\u001b[0m   \u001b[38;5;66;03m# in parallel.\u001b[39;00m\n\u001b[0;32m    951\u001b[0m   \u001b[38;5;28mself\u001b[39m\u001b[38;5;241m.\u001b[39m_lock\u001b[38;5;241m.\u001b[39mrelease()\n",
      "File \u001b[1;32m~\\AppData\\Roaming\\Python\\Python310\\site-packages\\tensorflow\\python\\eager\\function.py:2496\u001b[0m, in \u001b[0;36mFunction.__call__\u001b[1;34m(self, *args, **kwargs)\u001b[0m\n\u001b[0;32m   2493\u001b[0m \u001b[38;5;28;01mwith\u001b[39;00m \u001b[38;5;28mself\u001b[39m\u001b[38;5;241m.\u001b[39m_lock:\n\u001b[0;32m   2494\u001b[0m   (graph_function,\n\u001b[0;32m   2495\u001b[0m    filtered_flat_args) \u001b[38;5;241m=\u001b[39m \u001b[38;5;28mself\u001b[39m\u001b[38;5;241m.\u001b[39m_maybe_define_function(args, kwargs)\n\u001b[1;32m-> 2496\u001b[0m \u001b[38;5;28;01mreturn\u001b[39;00m \u001b[43mgraph_function\u001b[49m\u001b[38;5;241;43m.\u001b[39;49m\u001b[43m_call_flat\u001b[49m\u001b[43m(\u001b[49m\n\u001b[0;32m   2497\u001b[0m \u001b[43m    \u001b[49m\u001b[43mfiltered_flat_args\u001b[49m\u001b[43m,\u001b[49m\u001b[43m \u001b[49m\u001b[43mcaptured_inputs\u001b[49m\u001b[38;5;241;43m=\u001b[39;49m\u001b[43mgraph_function\u001b[49m\u001b[38;5;241;43m.\u001b[39;49m\u001b[43mcaptured_inputs\u001b[49m\u001b[43m)\u001b[49m\n",
      "File \u001b[1;32m~\\AppData\\Roaming\\Python\\Python310\\site-packages\\tensorflow\\python\\eager\\function.py:1862\u001b[0m, in \u001b[0;36mConcreteFunction._call_flat\u001b[1;34m(self, args, captured_inputs, cancellation_manager)\u001b[0m\n\u001b[0;32m   1858\u001b[0m possible_gradient_type \u001b[38;5;241m=\u001b[39m gradients_util\u001b[38;5;241m.\u001b[39mPossibleTapeGradientTypes(args)\n\u001b[0;32m   1859\u001b[0m \u001b[38;5;28;01mif\u001b[39;00m (possible_gradient_type \u001b[38;5;241m==\u001b[39m gradients_util\u001b[38;5;241m.\u001b[39mPOSSIBLE_GRADIENT_TYPES_NONE\n\u001b[0;32m   1860\u001b[0m     \u001b[38;5;129;01mand\u001b[39;00m executing_eagerly):\n\u001b[0;32m   1861\u001b[0m   \u001b[38;5;66;03m# No tape is watching; skip to running the function.\u001b[39;00m\n\u001b[1;32m-> 1862\u001b[0m   \u001b[38;5;28;01mreturn\u001b[39;00m \u001b[38;5;28mself\u001b[39m\u001b[38;5;241m.\u001b[39m_build_call_outputs(\u001b[38;5;28;43mself\u001b[39;49m\u001b[38;5;241;43m.\u001b[39;49m\u001b[43m_inference_function\u001b[49m\u001b[38;5;241;43m.\u001b[39;49m\u001b[43mcall\u001b[49m\u001b[43m(\u001b[49m\n\u001b[0;32m   1863\u001b[0m \u001b[43m      \u001b[49m\u001b[43mctx\u001b[49m\u001b[43m,\u001b[49m\u001b[43m \u001b[49m\u001b[43margs\u001b[49m\u001b[43m,\u001b[49m\u001b[43m \u001b[49m\u001b[43mcancellation_manager\u001b[49m\u001b[38;5;241;43m=\u001b[39;49m\u001b[43mcancellation_manager\u001b[49m\u001b[43m)\u001b[49m)\n\u001b[0;32m   1864\u001b[0m forward_backward \u001b[38;5;241m=\u001b[39m \u001b[38;5;28mself\u001b[39m\u001b[38;5;241m.\u001b[39m_select_forward_and_backward_functions(\n\u001b[0;32m   1865\u001b[0m     args,\n\u001b[0;32m   1866\u001b[0m     possible_gradient_type,\n\u001b[0;32m   1867\u001b[0m     executing_eagerly)\n\u001b[0;32m   1868\u001b[0m forward_function, args_with_tangents \u001b[38;5;241m=\u001b[39m forward_backward\u001b[38;5;241m.\u001b[39mforward()\n",
      "File \u001b[1;32m~\\AppData\\Roaming\\Python\\Python310\\site-packages\\tensorflow\\python\\eager\\function.py:499\u001b[0m, in \u001b[0;36m_EagerDefinedFunction.call\u001b[1;34m(self, ctx, args, cancellation_manager)\u001b[0m\n\u001b[0;32m    497\u001b[0m \u001b[38;5;28;01mwith\u001b[39;00m _InterpolateFunctionError(\u001b[38;5;28mself\u001b[39m):\n\u001b[0;32m    498\u001b[0m   \u001b[38;5;28;01mif\u001b[39;00m cancellation_manager \u001b[38;5;129;01mis\u001b[39;00m \u001b[38;5;28;01mNone\u001b[39;00m:\n\u001b[1;32m--> 499\u001b[0m     outputs \u001b[38;5;241m=\u001b[39m \u001b[43mexecute\u001b[49m\u001b[38;5;241;43m.\u001b[39;49m\u001b[43mexecute\u001b[49m\u001b[43m(\u001b[49m\n\u001b[0;32m    500\u001b[0m \u001b[43m        \u001b[49m\u001b[38;5;28;43mstr\u001b[39;49m\u001b[43m(\u001b[49m\u001b[38;5;28;43mself\u001b[39;49m\u001b[38;5;241;43m.\u001b[39;49m\u001b[43msignature\u001b[49m\u001b[38;5;241;43m.\u001b[39;49m\u001b[43mname\u001b[49m\u001b[43m)\u001b[49m\u001b[43m,\u001b[49m\n\u001b[0;32m    501\u001b[0m \u001b[43m        \u001b[49m\u001b[43mnum_outputs\u001b[49m\u001b[38;5;241;43m=\u001b[39;49m\u001b[38;5;28;43mself\u001b[39;49m\u001b[38;5;241;43m.\u001b[39;49m\u001b[43m_num_outputs\u001b[49m\u001b[43m,\u001b[49m\n\u001b[0;32m    502\u001b[0m \u001b[43m        \u001b[49m\u001b[43minputs\u001b[49m\u001b[38;5;241;43m=\u001b[39;49m\u001b[43margs\u001b[49m\u001b[43m,\u001b[49m\n\u001b[0;32m    503\u001b[0m \u001b[43m        \u001b[49m\u001b[43mattrs\u001b[49m\u001b[38;5;241;43m=\u001b[39;49m\u001b[43mattrs\u001b[49m\u001b[43m,\u001b[49m\n\u001b[0;32m    504\u001b[0m \u001b[43m        \u001b[49m\u001b[43mctx\u001b[49m\u001b[38;5;241;43m=\u001b[39;49m\u001b[43mctx\u001b[49m\u001b[43m)\u001b[49m\n\u001b[0;32m    505\u001b[0m   \u001b[38;5;28;01melse\u001b[39;00m:\n\u001b[0;32m    506\u001b[0m     outputs \u001b[38;5;241m=\u001b[39m execute\u001b[38;5;241m.\u001b[39mexecute_with_cancellation(\n\u001b[0;32m    507\u001b[0m         \u001b[38;5;28mstr\u001b[39m(\u001b[38;5;28mself\u001b[39m\u001b[38;5;241m.\u001b[39msignature\u001b[38;5;241m.\u001b[39mname),\n\u001b[0;32m    508\u001b[0m         num_outputs\u001b[38;5;241m=\u001b[39m\u001b[38;5;28mself\u001b[39m\u001b[38;5;241m.\u001b[39m_num_outputs,\n\u001b[1;32m   (...)\u001b[0m\n\u001b[0;32m    511\u001b[0m         ctx\u001b[38;5;241m=\u001b[39mctx,\n\u001b[0;32m    512\u001b[0m         cancellation_manager\u001b[38;5;241m=\u001b[39mcancellation_manager)\n",
      "File \u001b[1;32m~\\AppData\\Roaming\\Python\\Python310\\site-packages\\tensorflow\\python\\eager\\execute.py:54\u001b[0m, in \u001b[0;36mquick_execute\u001b[1;34m(op_name, num_outputs, inputs, attrs, ctx, name)\u001b[0m\n\u001b[0;32m     52\u001b[0m \u001b[38;5;28;01mtry\u001b[39;00m:\n\u001b[0;32m     53\u001b[0m   ctx\u001b[38;5;241m.\u001b[39mensure_initialized()\n\u001b[1;32m---> 54\u001b[0m   tensors \u001b[38;5;241m=\u001b[39m \u001b[43mpywrap_tfe\u001b[49m\u001b[38;5;241;43m.\u001b[39;49m\u001b[43mTFE_Py_Execute\u001b[49m\u001b[43m(\u001b[49m\u001b[43mctx\u001b[49m\u001b[38;5;241;43m.\u001b[39;49m\u001b[43m_handle\u001b[49m\u001b[43m,\u001b[49m\u001b[43m \u001b[49m\u001b[43mdevice_name\u001b[49m\u001b[43m,\u001b[49m\u001b[43m \u001b[49m\u001b[43mop_name\u001b[49m\u001b[43m,\u001b[49m\n\u001b[0;32m     55\u001b[0m \u001b[43m                                      \u001b[49m\u001b[43minputs\u001b[49m\u001b[43m,\u001b[49m\u001b[43m \u001b[49m\u001b[43mattrs\u001b[49m\u001b[43m,\u001b[49m\u001b[43m \u001b[49m\u001b[43mnum_outputs\u001b[49m\u001b[43m)\u001b[49m\n\u001b[0;32m     56\u001b[0m \u001b[38;5;28;01mexcept\u001b[39;00m core\u001b[38;5;241m.\u001b[39m_NotOkStatusException \u001b[38;5;28;01mas\u001b[39;00m e:\n\u001b[0;32m     57\u001b[0m   \u001b[38;5;28;01mif\u001b[39;00m name \u001b[38;5;129;01mis\u001b[39;00m \u001b[38;5;129;01mnot\u001b[39;00m \u001b[38;5;28;01mNone\u001b[39;00m:\n",
      "\u001b[1;31mKeyboardInterrupt\u001b[0m: "
     ]
    }
   ],
   "source": [
    "from tensorflow.keras.callbacks import EarlyStopping\n",
    "\n",
    "\n",
    "EPOCHS = 200\n",
    "\n",
    "\n",
    "hist = classifier.fit(x=train_ds, validation_data=val_ds, epochs=EPOCHS,\n",
    "                      callbacks=[EarlyStopping(monitor='val_loss', patience=3)]\n",
    "                      # class_weight=class_weights\n",
    "                     )"
   ]
  },
  {
   "cell_type": "code",
   "execution_count": null,
   "metadata": {},
   "outputs": [],
   "source": [
    "eval_metrics = classifier.evaluate(x=test_ds, return_dict=True)\n",
    "sentiment.print_metrics(eval_metrics)"
   ]
  },
  {
   "cell_type": "code",
   "execution_count": null,
   "metadata": {},
   "outputs": [],
   "source": [
    "stats = hist.history\n",
    "stats_graps = {\n",
    "    'Val Loss': stats['val_loss'],\n",
    "    'Val Precision All': stats['precision@0.5/all'],\n",
    "    'Val Recall All': stats['recall@0.5/all'],\n",
    "    'Val F1-Score Weighted': stats['f1_score@0.5/all'],\n",
    "    'Val F1-Score Micro': stats['f1_score_micro@0.5/all'],\n",
    "    'Val F1-Score Macro': stats['f1_score_macro@0.5/all'],\n",
    "}\n",
    "sentiment.plot_history(stats_graps)"
   ]
  },
  {
   "cell_type": "code",
   "execution_count": null,
   "metadata": {
    "tags": []
   },
   "outputs": [],
   "source": [
    "sentiment.calc_TP_perc(test_ds, classifier)"
   ]
  },
  {
   "cell_type": "code",
   "execution_count": null,
   "metadata": {
    "tags": []
   },
   "outputs": [],
   "source": [
    "import pickle\n",
    "\n",
    "with open('vectorizer.pkl', 'rb') as file:\n",
    "    vectorizer = pickle.load(file)\n",
    "    \n",
    "with open('features.pkl', 'rb') as file:\n",
    "    features = pickle.load(file)"
   ]
  },
  {
   "cell_type": "code",
   "execution_count": null,
   "metadata": {
    "tags": []
   },
   "outputs": [],
   "source": [
    "examples = [\n",
    "    'I am feeling great today!',\n",
    "    'The weather is so good',\n",
    "    'I have performed well at the university',\n",
    "    'The war has started',\n",
    "    'He is desperate in this cruel world',\n",
    "    'I love the feeling when my girlfriend hugs me',\n",
    "    'I hate monday mornings',\n",
    "    'Look forward to seeing you today',\n",
    "    'Merry Christmas! I told Santa you were good this year and '\n",
    "    'asked him to bring you a year full of joy and pleasure ',\n",
    "    'brilliant! Such a detailed review, it was a pleasure, thank you! '\n",
    "    'Guys, make sure you find time to read :) Aaaaand you can actually choose sth new)',\n",
    "    'I have the new pan for pancakes.',\n",
    "    \"I'm wearing a special red ribbon for luck.\",\n",
    "    'OMG, yep!!! That is the final answer! Thank you so much!',\n",
    "    'I am so glad this is over',\n",
    "    'Sorry, I feel bad for having said that',\n",
    "    'Happy birthday, my friend! I wish you a lot of success!',\n",
    "    'What a shame! I will never talk to him',\n",
    "    \"What if she knows? We don't know what to do\",\n",
    "    'WOW! I am really into cinema',\n",
    "    \"What if I don't pass the exam? I will never get this driving license!\",\n",
    "    'I have just come up with the idea of birthday present. Let me explain...',\n",
    "    \"Don't worry, all of us will pass this test. It is just to 'evaluate our knowledge.\",\n",
    "    ' miss my grandad. I am feeling so lonely after her death. '\n",
    "    'I just lost my closest person..',\n",
    "    'Skipping lessons is so miserable for Oxford students!',\n",
    "    'Have a rest, my boy. You had a long trip. I will make us tea and bring a cake.',\n",
    "    'What a man! My son got the highest rate and will study in Cambridge. '\n",
    "    'Our family is so proud of him!',\n",
    "    \"Mmmm, delicious. That's totally the best pasta in Italy!\",\n",
    "]"
   ]
  },
  {
   "cell_type": "code",
   "execution_count": null,
   "metadata": {
    "tags": []
   },
   "outputs": [],
   "source": [
    "example_df = pd.DataFrame(examples, columns=['text'])\n",
    "example_df = sentiment.cleansing(example_df)\n",
    "example_df.head()"
   ]
  },
  {
   "cell_type": "code",
   "execution_count": null,
   "metadata": {
    "tags": []
   },
   "outputs": [],
   "source": [
    "exmpl_texts = example_df['text']\n",
    "exmpl_vect = vectorizer.transform(exmpl_texts)\n",
    "exmpl_features = exmpl_vect[:,features].toarray().astype('float32')"
   ]
  },
  {
   "cell_type": "code",
   "execution_count": null,
   "metadata": {
    "tags": []
   },
   "outputs": [],
   "source": [
    "model_scores = classifier(tf.constant(exmpl_features))\n",
    "np_classes = np.array(classes)\n",
    "for idx, predictions in enumerate(model_scores):\n",
    "    predicted = (predictions >= 0.5).numpy()\n",
    "    if predicted.any():\n",
    "        emotions = np_classes[predicted]\n",
    "    else:\n",
    "        print('⚠️ Model not sure! ', end='')\n",
    "        emotions = np_classes[[predictions.numpy().argmax()]]\n",
    "    with_emojis = []\n",
    "    for emotion in emotions:\n",
    "        try:\n",
    "            emoji = sentiment.EMOJI_MAP[emotion]\n",
    "        except KeyError:\n",
    "            emoji = 'N/A'\n",
    "        with_emojis.append(f'{emotion} {emoji}')\n",
    "    print('{}: {}'.format(exmpl_texts[idx], ' '.join(with_emojis)))"
   ]
  },
  {
   "cell_type": "code",
   "execution_count": null,
   "metadata": {},
   "outputs": [],
   "source": [
    "sentiment.plot_conf_mtrx_all(classifier, test_ds, classes)"
   ]
  },
  {
   "cell_type": "code",
   "execution_count": null,
   "metadata": {},
   "outputs": [],
   "source": [
    "sentiment.plot_conf_mtrx_per_class(classifier, test_ds, classes)"
   ]
  },
  {
   "cell_type": "raw",
   "metadata": {},
   "source": [
    "sentiment.test_examples(classifier, classes)"
   ]
  },
  {
   "cell_type": "code",
   "execution_count": null,
   "metadata": {},
   "outputs": [],
   "source": [
    "classifier.save('./models/mlp', include_optimizer=False)"
   ]
  },
  {
   "cell_type": "markdown",
   "metadata": {
    "tags": []
   },
   "source": [
    "## Notes \n"
   ]
  },
  {
   "cell_type": "markdown",
   "metadata": {},
   "source": [
    "# Re-Run this notebook!!!  \n",
    "# Implement emotion -> sentiment and check its accuracy"
   ]
  },
  {
   "cell_type": "code",
   "execution_count": null,
   "metadata": {},
   "outputs": [],
   "source": []
  },
  {
   "cell_type": "code",
   "execution_count": null,
   "metadata": {},
   "outputs": [],
   "source": []
  },
  {
   "cell_type": "code",
   "execution_count": null,
   "metadata": {},
   "outputs": [],
   "source": []
  }
 ],
 "metadata": {
  "kernelspec": {
   "display_name": "Python 3 (ipykernel)",
   "language": "python",
   "name": "python3"
  },
  "language_info": {
   "codemirror_mode": {
    "name": "ipython",
    "version": 3
   },
   "file_extension": ".py",
   "mimetype": "text/x-python",
   "name": "python",
   "nbconvert_exporter": "python",
   "pygments_lexer": "ipython3",
   "version": "3.10.5"
  }
 },
 "nbformat": 4,
 "nbformat_minor": 4
}
