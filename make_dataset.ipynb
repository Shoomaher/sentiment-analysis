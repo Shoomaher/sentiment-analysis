{
 "cells": [
  {
   "cell_type": "code",
   "execution_count": 10,
   "id": "e6923001-8e61-4106-90d6-338b1e94a113",
   "metadata": {
    "tags": []
   },
   "outputs": [],
   "source": [
    "import sentiment\n",
    "from os import listdir\n",
    "from os.path import join\n",
    "import pandas as pd\n",
    "from unidecode import unidecode\n",
    "\n",
    "ds_dir = './goemotions/data-v2'"
   ]
  },
  {
   "cell_type": "code",
   "execution_count": 15,
   "id": "ca26d941-0646-4aba-83ad-dbd7e85a4439",
   "metadata": {
    "tags": []
   },
   "outputs": [],
   "source": [
    "train_df, val_df, test_df = sentiment.make_dataframes(ds_dir, fraction=0.8, optimize_low=True)\n"
   ]
  },
  {
   "cell_type": "code",
   "execution_count": 16,
   "id": "702c1f06-ff28-4794-94d1-43a26962ee57",
   "metadata": {
    "tags": []
   },
   "outputs": [],
   "source": [
    "classes = sentiment.load_classes(ds_dir)"
   ]
  },
  {
   "cell_type": "code",
   "execution_count": 17,
   "id": "e0a5e0e4-a19f-4f95-81f8-3911f4f09664",
   "metadata": {
    "tags": []
   },
   "outputs": [
    {
     "data": {
      "text/plain": [
       "{'0': 'admiration',\n",
       " '1': 'amusement',\n",
       " '2': 'anger',\n",
       " '3': 'annoyance',\n",
       " '4': 'approval',\n",
       " '5': 'caring',\n",
       " '6': 'confusion',\n",
       " '7': 'curiosity',\n",
       " '8': 'desire',\n",
       " '9': 'disappointment',\n",
       " '10': 'disapproval',\n",
       " '11': 'disgust',\n",
       " '12': 'embarrassment',\n",
       " '13': 'excitement',\n",
       " '14': 'fear',\n",
       " '15': 'gratitude',\n",
       " '16': 'grief',\n",
       " '17': 'joy',\n",
       " '18': 'love',\n",
       " '19': 'nervousness',\n",
       " '20': 'optimism',\n",
       " '21': 'pride',\n",
       " '22': 'realization',\n",
       " '23': 'relief',\n",
       " '24': 'remorse',\n",
       " '25': 'sadness',\n",
       " '26': 'surprise',\n",
       " '27': 'neutral'}"
      ]
     },
     "execution_count": 17,
     "metadata": {},
     "output_type": "execute_result"
    }
   ],
   "source": [
    "class_map = {str(x): y for x, y in enumerate(classes)}\n",
    "class_map"
   ]
  },
  {
   "cell_type": "code",
   "execution_count": 18,
   "id": "a128e94f-937c-4f86-b018-03c67eab0846",
   "metadata": {
    "tags": []
   },
   "outputs": [
    {
     "data": {
      "text/plain": [
       "neutral           16021\n",
       "admiration         3384\n",
       "gratitude          2378\n",
       "approval           2367\n",
       "amusement          2046\n",
       "annoyance          1809\n",
       "disapproval        1809\n",
       "love               1760\n",
       "curiosity          1729\n",
       "anger              1265\n",
       "optimism           1087\n",
       "confusion          1057\n",
       "joy                1052\n",
       "sadness            1003\n",
       "surprise            902\n",
       "disappointment      888\n",
       "caring              831\n",
       "realization         749\n",
       "disgust             635\n",
       "excitement          619\n",
       "fear                553\n",
       "desire              497\n",
       "remorse             437\n",
       "embarrassment       246\n",
       "nervousness         208\n",
       "relief              181\n",
       "pride               142\n",
       "grief                95\n",
       "Name: labels, dtype: int64"
      ]
     },
     "execution_count": 18,
     "metadata": {},
     "output_type": "execute_result"
    }
   ],
   "source": [
    "full_df = pd.concat([train_df, val_df, test_df], axis=0, ignore_index=True, sort=False)\n",
    "full_df['labels'].map(class_map).value_counts()"
   ]
  },
  {
   "cell_type": "code",
   "execution_count": null,
   "id": "f8eed572-72e8-44b8-9501-ee1ffdad0073",
   "metadata": {},
   "outputs": [],
   "source": []
  },
  {
   "cell_type": "code",
   "execution_count": null,
   "id": "5ecd0673-26b9-47a1-b60c-c2b274cc4ad2",
   "metadata": {
    "tags": []
   },
   "outputs": [],
   "source": [
    "problems = ['19', '23', '21', '16']"
   ]
  },
  {
   "cell_type": "code",
   "execution_count": null,
   "id": "750b092c-5c5b-480a-832a-86588a2763fe",
   "metadata": {
    "tags": []
   },
   "outputs": [],
   "source": [
    "full_df = pd.concat([train_df, val_df, test_df], axis=0, ignore_index=True, sort=False)\n",
    "class_counts = full_df.loc[~full_df['labels'].str.contains(','), 'labels'].value_counts()\n",
    "class_counts"
   ]
  },
  {
   "cell_type": "code",
   "execution_count": null,
   "id": "1398cb8f-1f70-420e-9065-9af461df5c71",
   "metadata": {
    "tags": []
   },
   "outputs": [],
   "source": [
    "low_threshold = 200"
   ]
  },
  {
   "cell_type": "code",
   "execution_count": null,
   "id": "0a09ebc6-aaf7-480c-84c6-427fc5b20729",
   "metadata": {
    "tags": []
   },
   "outputs": [],
   "source": [
    "low_classes = class_counts[class_counts < low_threshold].index.tolist()"
   ]
  },
  {
   "cell_type": "code",
   "execution_count": null,
   "id": "aed4e197-d4d9-47f4-8fbe-6731193d4815",
   "metadata": {
    "tags": []
   },
   "outputs": [],
   "source": [
    "for class_num in problems:\n",
    "    print(f'Having {class_map[class_num]}')\n",
    "    with_class = train_df['labels'].str.contains(class_num)\n",
    "    print(train_df[with_class].shape[0])\n",
    "    display(train_df.loc[with_class, 'labels'].value_counts())"
   ]
  },
  {
   "cell_type": "code",
   "execution_count": null,
   "id": "af8fecf1-02b0-4957-8879-5a1cb35ea738",
   "metadata": {},
   "outputs": [],
   "source": []
  },
  {
   "cell_type": "code",
   "execution_count": null,
   "id": "62545eae-c776-4916-bb00-b5fb75ecf6f5",
   "metadata": {},
   "outputs": [],
   "source": []
  },
  {
   "cell_type": "code",
   "execution_count": null,
   "id": "f07e2578-c267-4e73-89f8-82da9648fbee",
   "metadata": {},
   "outputs": [],
   "source": []
  },
  {
   "cell_type": "code",
   "execution_count": null,
   "id": "55176f72-898c-422c-8066-54f23d52d2dc",
   "metadata": {},
   "outputs": [],
   "source": []
  },
  {
   "cell_type": "code",
   "execution_count": null,
   "id": "4429d4e0-2b05-4b47-be9e-7ce14ee99fd7",
   "metadata": {},
   "outputs": [],
   "source": []
  },
  {
   "cell_type": "code",
   "execution_count": null,
   "id": "b09f08d0-da3e-46f9-b6f2-43d3a1621701",
   "metadata": {},
   "outputs": [],
   "source": []
  }
 ],
 "metadata": {
  "kernelspec": {
   "display_name": "Python 3 (ipykernel)",
   "language": "python",
   "name": "python3"
  },
  "language_info": {
   "codemirror_mode": {
    "name": "ipython",
    "version": 3
   },
   "file_extension": ".py",
   "mimetype": "text/x-python",
   "name": "python",
   "nbconvert_exporter": "python",
   "pygments_lexer": "ipython3",
   "version": "3.10.5"
  }
 },
 "nbformat": 4,
 "nbformat_minor": 5
}
